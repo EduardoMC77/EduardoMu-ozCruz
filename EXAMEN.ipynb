{
  "nbformat": 4,
  "nbformat_minor": 0,
  "metadata": {
    "colab": {
      "name": "EXAMEN.ipynb",
      "provenance": [],
      "authorship_tag": "ABX9TyOnbO4sphIA58DyW2cwOKf8",
      "include_colab_link": true
    },
    "kernelspec": {
      "name": "python3",
      "display_name": "Python 3"
    }
  },
  "cells": [
    {
      "cell_type": "markdown",
      "metadata": {
        "id": "view-in-github",
        "colab_type": "text"
      },
      "source": [
        "<a href=\"https://colab.research.google.com/github/EduardoMC77/EduardoMu-ozCruz/blob/master/EXAMEN.ipynb\" target=\"_parent\"><img src=\"https://colab.research.google.com/assets/colab-badge.svg\" alt=\"Open In Colab\"/></a>"
      ]
    },
    {
      "cell_type": "code",
      "metadata": {
        "id": "XJhNBw4bF8pa",
        "colab_type": "code",
        "colab": {}
      },
      "source": [
        "import pandas as pd\n",
        "from sklearn.tree import DecisionTreeRegressor\n",
        "from sklearn.metrics import mean_absolute_error\n",
        "from sklearn.model_selection import train_test_split"
      ],
      "execution_count": 1,
      "outputs": []
    },
    {
      "cell_type": "code",
      "metadata": {
        "id": "R6_sGuDhGZG6",
        "colab_type": "code",
        "colab": {}
      },
      "source": [
        "from google.colab import files\n",
        "uploaded = files.upload()"
      ],
      "execution_count": null,
      "outputs": []
    },
    {
      "cell_type": "code",
      "metadata": {
        "id": "30GFb0lDGoHJ",
        "colab_type": "code",
        "colab": {
          "base_uri": "https://localhost:8080/",
          "height": 35
        },
        "outputId": "f27a3f59-51df-44ae-faae-d914db950b7f"
      },
      "source": [
        "melbourne_data =pd.read_csv('sample_submission_.csv')\n",
        "melbourne_data.columns"
      ],
      "execution_count": 3,
      "outputs": [
        {
          "output_type": "execute_result",
          "data": {
            "text/plain": [
              "Index(['LotArea', 'Price'], dtype='object')"
            ]
          },
          "metadata": {
            "tags": []
          },
          "execution_count": 3
        }
      ]
    },
    {
      "cell_type": "code",
      "metadata": {
        "id": "F3ebs_YsGxD_",
        "colab_type": "code",
        "colab": {
          "base_uri": "https://localhost:8080/",
          "height": 201
        },
        "outputId": "482c09a9-59e2-41d8-be1c-f68a25cc17d2"
      },
      "source": [
        "melbourne_data=melbourne_data.dropna(axis=0)\n",
        "y=melbourne_data.Price\n",
        "melbourne_features=['LotArea']\n",
        "x=melbourne_data[melbourne_features]\n",
        "print(\"Modelo tomado de Price\")\n",
        "y.describe()"
      ],
      "execution_count": 20,
      "outputs": [
        {
          "output_type": "stream",
          "text": [
            "Modelo tomado de Price\n"
          ],
          "name": "stdout"
        },
        {
          "output_type": "execute_result",
          "data": {
            "text/plain": [
              "count        50.000000\n",
              "mean     171458.879550\n",
              "std       16322.151092\n",
              "min      145291.245000\n",
              "25%      158007.653425\n",
              "50%      172642.785850\n",
              "75%      185650.132900\n",
              "max      201740.620700\n",
              "Name: Price, dtype: float64"
            ]
          },
          "metadata": {
            "tags": []
          },
          "execution_count": 20
        }
      ]
    },
    {
      "cell_type": "code",
      "metadata": {
        "id": "pVpmp5u0I_l3",
        "colab_type": "code",
        "colab": {
          "base_uri": "https://localhost:8080/",
          "height": 182
        },
        "outputId": "94379f75-972b-4cee-9869-3708fcc4f095"
      },
      "source": [
        "print(\"Siguientes 5 datos predecidos\")\n",
        "melbourne_model = DecisionTreeRegressor(random_state=1)\n",
        "melbourne_model.fit(x,y)\n",
        "print(x.head())\n",
        "print(\"Las predicciones en area de Price son:\")\n",
        "print(melbourne_model.predict(x.head()))"
      ],
      "execution_count": 21,
      "outputs": [
        {
          "output_type": "stream",
          "text": [
            "Siguientes 5 datos predecidos\n",
            "   LotArea\n",
            "0     8450\n",
            "1     9600\n",
            "2    11250\n",
            "3     9550\n",
            "4    14260\n",
            "Las predicciones en area son:\n",
            "[169277.0525 187758.394  183583.6836 179317.4775 150730.08  ]\n"
          ],
          "name": "stdout"
        }
      ]
    },
    {
      "cell_type": "code",
      "metadata": {
        "id": "5el2KJfRRyFj",
        "colab_type": "code",
        "colab": {
          "base_uri": "https://localhost:8080/",
          "height": 54
        },
        "outputId": "95a69d57-d81c-46da-88ba-becccc90edf0"
      },
      "source": [
        "predicted_home_prices = melbourne_model.predict(x)\n",
        "print(\"MAE 1er entrenamiento\")\n",
        "mean_absolute_error(y,predicted_home_prices)"
      ],
      "execution_count": 48,
      "outputs": [
        {
          "output_type": "stream",
          "text": [
            "Error medio absoluto (primer entrenamiento):\n"
          ],
          "name": "stdout"
        },
        {
          "output_type": "execute_result",
          "data": {
            "text/plain": [
              "5612.058442000001"
            ]
          },
          "metadata": {
            "tags": []
          },
          "execution_count": 48
        }
      ]
    },
    {
      "cell_type": "code",
      "metadata": {
        "id": "z9ISKAvEPY7i",
        "colab_type": "code",
        "colab": {
          "base_uri": "https://localhost:8080/",
          "height": 54
        },
        "outputId": "83ba7ef9-246a-41be-9dbb-2725d49d8268"
      },
      "source": [
        "train_x,val_x,train_y,val_y=train_test_split(x,y,random_state=0) \n",
        "melbourne_model=DecisionTreeRegressor() \n",
        "melbourne_model.fit(train_x,train_y) \n",
        "val_predictions=melbourne_model.predict(val_x) \n",
        "print(\"MAE 2do entrenamiento\")\n",
        "print(mean_absolute_error(val_y,val_predictions))"
      ],
      "execution_count": 49,
      "outputs": [
        {
          "output_type": "stream",
          "text": [
            "MAE 2do entrenamiento\n",
            "20242.58890000001\n"
          ],
          "name": "stdout"
        }
      ]
    },
    {
      "cell_type": "markdown",
      "metadata": {
        "id": "Syin1fjrPo2g",
        "colab_type": "text"
      },
      "source": [
        ""
      ]
    }
  ]
}